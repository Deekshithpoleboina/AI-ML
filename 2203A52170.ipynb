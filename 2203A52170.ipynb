{
  "nbformat": 4,
  "nbformat_minor": 0,
  "metadata": {
    "colab": {
      "provenance": []
    },
    "kernelspec": {
      "name": "python3",
      "display_name": "Python 3"
    },
    "language_info": {
      "name": "python"
    }
  },
  "cells": [
    {
      "cell_type": "code",
      "source": [
        "import numpy as np\n",
        "import pandas as pd\n",
        "\n",
        "list1 = [1, 2, 3, 4, 5]\n",
        "list2 = [6, 7, 8, 9, 10]\n",
        "\n",
        "array1 = np.array(list1)\n",
        "array2 = np.array(list2)\n",
        "\n",
        "print(\"Type of list1:\", type(list1))\n",
        "print(\"Type of array1:\", type(array1))\n",
        "\n",
        "result_add = np.add(array1, array2)\n",
        "result_sub= np.subtract(array1, array2)\n",
        "result_mul = np.multiply(array1, array2)\n",
        "result_div = np.divide(array1, array2)\n",
        "result_pow = np.power(array1, array2)\n",
        "print(\"Result of Addition :\",result_add)\n",
        "print(\"Result of Subtraction :\",result_sub)\n",
        "print(\"Result of Mutliplication :\",result_mul)\n",
        "print(\"Result of Division :\",result_div)\n",
        "print(\"Result of Power :\",result_pow)\n",
        "\n",
        "text_output_array = np.array(f\"Addition of Two: {array1} + {array2}\")\n",
        "\n",
        "sin_values= np.sin(array1)\n",
        "log_values= np.log(array1)\n",
        "log2_values = np.log2(array1)\n",
        "exp_values = np.exp(array1)\n",
        "print(\"Result of Sin values: \",sin_values)\n",
        "print(\"Result of Log values: \",log_values)\n",
        "print(\"Result of Log2 values: \",log2_values)\n",
        "print(\"Result of Expersion values: \",exp_values)\n"
      ],
      "metadata": {
        "colab": {
          "base_uri": "https://localhost:8080/"
        },
        "id": "DFBUAQYXKcT5",
        "outputId": "27175a9e-9a65-4cb3-cc1b-bd8927b4073d"
      },
      "execution_count": 18,
      "outputs": [
        {
          "output_type": "stream",
          "name": "stdout",
          "text": [
            "Type of list1: <class 'list'>\n",
            "Type of array1: <class 'numpy.ndarray'>\n",
            "Result of Addition : [ 7  9 11 13 15]\n",
            "Result of Subtraction : [-5 -5 -5 -5 -5]\n",
            "Result of Mutliplication : [ 6 14 24 36 50]\n",
            "Result of Division : [0.16666667 0.28571429 0.375      0.44444444 0.5       ]\n",
            "Result of Power : [      1     128    6561  262144 9765625]\n",
            "Result of Sin values:  [ 0.84147098  0.90929743  0.14112001 -0.7568025  -0.95892427]\n",
            "Result of Log values:  [0.         0.69314718 1.09861229 1.38629436 1.60943791]\n",
            "Result of Log2 values:  [0.         1.         1.5849625  2.         2.32192809]\n",
            "Result of Expersion values:  [  2.71828183   7.3890561   20.08553692  54.59815003 148.4131591 ]\n"
          ]
        }
      ]
    }
  ]
}